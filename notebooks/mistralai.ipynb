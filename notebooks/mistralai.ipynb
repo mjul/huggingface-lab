{
 "cells": [
  {
   "cell_type": "markdown",
   "source": [
    "# Mistral AI Base Model 7B\n",
    "\n",
    "See model card here: https://huggingface.co/mistralai/Mistral-7B-v0.1"
   ],
   "metadata": {
    "collapsed": false
   },
   "id": "df1d8658374e0d56"
  },
  {
   "cell_type": "code",
   "execution_count": null,
   "outputs": [],
   "source": [
    "MODEL_NAME = \"mistralai/Mistral-7B-v0.1\""
   ],
   "metadata": {
    "collapsed": false
   },
   "id": "12afcf9b1e03a8bc"
  },
  {
   "cell_type": "markdown",
   "source": [
    "Load the model and tokenizer. \n",
    "\n",
    "The `device_map=\"auto\"` option directs it to load the model on the best devices (*e.g.* GPU if available), possibly splitting layers across GPU and CPU if not enough VRAM is available on the GPU.\n",
    "\n",
    "Here, we create a `device_map` with using the underlying primitives to show how it works.\n",
    "See [How 🤗 Accelerate runs very large models thanks to PyTorch](https://huggingface.co/blog/accelerate-large-models) for more details. "
   ],
   "metadata": {
    "collapsed": false
   },
   "id": "6089176baca58a3a"
  },
  {
   "cell_type": "code",
   "execution_count": null,
   "outputs": [],
   "source": [
    "from accelerate import infer_auto_device_map, init_empty_weights\n",
    "from transformers import AutoConfig, AutoModelForCausalLM, AutoTokenizer\n",
    "\n",
    "config = AutoConfig.from_pretrained(MODEL_NAME)\n",
    "with init_empty_weights():\n",
    "    model = AutoModelForCausalLM.from_config(config)\n",
    "\n",
    "device_map = infer_auto_device_map(model,\n",
    "                                   no_split_module_classes=[\"OPTDecoderLayer\"], \n",
    "                                   dtype=\"float16\")"
   ],
   "metadata": {
    "collapsed": false
   },
   "id": "3930de55402da1d"
  },
  {
   "cell_type": "code",
   "execution_count": null,
   "outputs": [],
   "source": [
    "device_map"
   ],
   "metadata": {
    "collapsed": false
   },
   "id": "1e4403590f064272"
  },
  {
   "cell_type": "markdown",
   "source": [
    "Now use the `device_map` to place the model on the right devices:"
   ],
   "metadata": {
    "collapsed": false
   },
   "id": "97dccc28a5a4b83b"
  },
  {
   "cell_type": "code",
   "execution_count": null,
   "outputs": [],
   "source": [
    "model = AutoModelForCausalLM.from_pretrained(MODEL_NAME, device_map=device_map)\n",
    "tokenizer = AutoTokenizer.from_pretrained(MODEL_NAME)"
   ],
   "metadata": {
    "collapsed": false
   },
   "id": "784862000493fc4d"
  },
  {
   "cell_type": "code",
   "execution_count": null,
   "outputs": [],
   "source": [
    "prompt = \"Shall I compare thee to a\"\n",
    "\n",
    "model_inputs = tokenizer([prompt], return_tensors=\"pt\")"
   ],
   "metadata": {
    "collapsed": false
   },
   "id": "11ec2d0a3922e4bc"
  },
  {
   "cell_type": "code",
   "execution_count": null,
   "outputs": [],
   "source": [
    "model_inputs.to('cuda')\n",
    "generated_ids = model.generate(**model_inputs, max_new_tokens=20, do_sample=True)\n",
    "tokenizer.batch_decode(generated_ids)[0]"
   ],
   "metadata": {
    "collapsed": false
   },
   "id": "ed8373a2f88d6303"
  },
  {
   "cell_type": "code",
   "execution_count": null,
   "outputs": [],
   "source": [],
   "metadata": {
    "collapsed": false
   },
   "id": "7751ad3e3c2e5c21"
  }
 ],
 "metadata": {
  "kernelspec": {
   "display_name": "Python 3",
   "language": "python",
   "name": "python3"
  },
  "language_info": {
   "codemirror_mode": {
    "name": "ipython",
    "version": 2
   },
   "file_extension": ".py",
   "mimetype": "text/x-python",
   "name": "python",
   "nbconvert_exporter": "python",
   "pygments_lexer": "ipython2",
   "version": "2.7.6"
  }
 },
 "nbformat": 4,
 "nbformat_minor": 5
}
